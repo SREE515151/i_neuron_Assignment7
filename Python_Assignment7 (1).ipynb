{
  "metadata": {
    "language_info": {
      "name": ""
    },
    "kernelspec": {
      "name": "python",
      "display_name": "Python (Pyodide)",
      "language": "python"
    }
  },
  "nbformat_minor": 4,
  "nbformat": 4,
  "cells": [
    {
      "cell_type": "markdown",
      "source": "1. Create two int type variables, apply addition, subtraction, division and multiplications and store the results in variables. Then print the data in the following format by calling the variables:\nFirst variable is __ & second variable is __.\nAddition: __ + __ = __\nSubtraction: __ - __ = __\nMultiplication: __ * __ = __\nDivision: __ / __ = __",
      "metadata": {}
    },
    {
      "cell_type": "markdown",
      "source": "A) \n\nnum1 = 3\nnum2 = 6\n\nAdd = num1 + num2\nsub = num1 - num2\nmulti = num1 * num2\ndiv = num1 / num2\n\nprint(f\"First variable is {num1} & second variable is {num2}.\")\nprint(f\"Addition: {num1} + {num2} = {Add}\")\nprint(f\"Subtraction: {num1} - {num2} = {sub}\")\nprint(f\"Multiplication: {num1} * {num2} = {multi}\")\nprint(f\"Division: {num1} / {num2} = {div}\")\n\n",
      "metadata": {}
    },
    {
      "cell_type": "code",
      "source": "",
      "metadata": {},
      "execution_count": null,
      "outputs": []
    },
    {
      "cell_type": "markdown",
      "source": "2. What is the difference between the following operators:\n(i) ‘/’ & ‘//’\n(ii) ‘**’ & ‘^’",
      "metadata": {}
    },
    {
      "cell_type": "markdown",
      "source": "A) `/` and `//` operators are both used to divide two numbers. \n\nHowever, the `//` operator returns an integer result, while the `/` operator returns a floating-point result. This can be important if you need to perform calculations with whole numbers.\n\n`**` and `^` operators are both used to raise a number to a power.\n\nHowever, the `**` operator returns a floating-point result, while the `^` operator returns the remainder. ",
      "metadata": {}
    },
    {
      "cell_type": "code",
      "source": "",
      "metadata": {},
      "execution_count": null,
      "outputs": []
    },
    {
      "cell_type": "markdown",
      "source": "3. List the logical operators.",
      "metadata": {}
    },
    {
      "cell_type": "markdown",
      "source": "A)\nThe logical operators in Python are `and`, `or`, and `not`.\n1.`and` returns True if both operands are True, and False otherwise.\n2.`or` returns True if either operand is True, and False otherwise.\n3.`not` returns the opposite of the operand.",
      "metadata": {}
    },
    {
      "cell_type": "code",
      "source": "",
      "metadata": {},
      "execution_count": null,
      "outputs": []
    },
    {
      "cell_type": "markdown",
      "source": "4. Explain right shift operator and left shift operator with examples.",
      "metadata": {}
    },
    {
      "cell_type": "markdown",
      "source": "A) The right shift operator (`>>`) and left shift operator (`<<`) are used to shift the bits in a number to the right or left, respectively. \nThe number of bits to shift is specified by the second operand.\nExample, the following code shifts the bits in the number `10` to the right by 2 bits:\n10 >> 2\nResult: 2\nThis results in the number `2`, because the two rightmost bits of `10` are shifted off and the remaining bits are shifted to the right.\n\nThe following code shifts the bits in the number `10` to the left by 2 bits:\n10 << 2\nResult : 40\nThis results in the number `40`, because the two leftmost bits of `10` are shifted into the rightmost two bits and the remaining bits are shifted to the left.\n",
      "metadata": {}
    },
    {
      "cell_type": "code",
      "source": "",
      "metadata": {},
      "execution_count": null,
      "outputs": []
    },
    {
      "cell_type": "markdown",
      "source": "5. Create a list containing int type data of length 15. Then write a code to check if 10 is present in the list or not.",
      "metadata": {}
    },
    {
      "cell_type": "code",
      "source": "#A)\nmyIntegers =(15,2,5,7,12,11,10,9,7,1,10,13,17,18,14)\n\nprint(len(myIntegers))\n\nif 10 in myIntegers:\n    print(\"10 is present in the list\")\nelse:\n    print(\"10 is not present in the list\")\n",
      "metadata": {},
      "execution_count": null,
      "outputs": []
    },
    {
      "cell_type": "code",
      "source": "",
      "metadata": {},
      "execution_count": null,
      "outputs": []
    },
    {
      "cell_type": "code",
      "source": "",
      "metadata": {},
      "execution_count": null,
      "outputs": []
    },
    {
      "cell_type": "code",
      "source": "",
      "metadata": {},
      "execution_count": null,
      "outputs": []
    }
  ]
}